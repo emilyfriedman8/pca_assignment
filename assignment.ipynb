{
  "cells": [
    {
      "cell_type": "markdown",
      "metadata": {
        "id": "NBgmx9f9kJZa"
      },
      "source": [
        "## PCA and Text Analysis\n",
        "\n",
        "This assignment involves processing real e-mails, some of which are scams.\n",
        "\n",
        "Fair warning: Some of these scam e-mails have offensive content. If you start reading the e-mail text or the token data, you might read something offensive. If that's a problem, feel free to e-mail me, and we can talk about it and discuss how to proceed with alternative tasks."
      ]
    },
    {
      "cell_type": "markdown",
      "metadata": {
        "id": "ff4sT0dmkJZb"
      },
      "source": [
        "### Q1.\n",
        "\n",
        "**Tokens**: The individual words or symbols that create text data like emails. Natural Language Processing is primarily about analyzing the frequency and co-occurrence of tokens.\n",
        "\n",
        "I aggregated all the emails into a single vector, and removed the punctuation and very common words (e.g. \"the\"). Run the below code chunk to open it, and use the Counter class to look at the most common words:"
      ]
    },
    {
      "cell_type": "code",
      "execution_count": 2,
      "metadata": {
        "id": "IuBE9fqekJZc"
      },
      "outputs": [],
      "source": [
        "import pickle\n",
        "with open('/content/all_tokens.pickle', 'rb') as file:\n",
        "    all_tokens = pickle.load(file)\n",
        "\n",
        "from collections import Counter\n",
        "token_count = Counter(all_tokens)\n",
        "token_freq = token_count.most_common()"
      ]
    },
    {
      "cell_type": "markdown",
      "metadata": {
        "id": "A36stP3_kJZc"
      },
      "source": [
        "Plot a histogram of the occurrences of tokens.\n",
        "\n",
        "What do you notice about the frequency of occurrence of different tokens? How does it look?"
      ]
    },
    {
      "cell_type": "code",
      "execution_count": 5,
      "metadata": {
        "id": "Klv3w8MrkJZc",
        "outputId": "887abb76-93a7-43b3-932c-222da5fb3c70",
        "colab": {
          "base_uri": "https://localhost:8080/",
          "height": 507
        }
      },
      "outputs": [
        {
          "output_type": "display_data",
          "data": {
            "text/plain": [
              "<Figure size 800x500 with 1 Axes>"
            ],
            "image/png": "[encoded data removed]"
          },
          "metadata": {}
        }
      ],
      "source": [
        "import matplotlib.pyplot as plt\n",
        "\n",
        "# Get the frequencies of all tokens\n",
        "counts = [count for word, count in token_freq]\n",
        "\n",
        "# Plot histogram\n",
        "plt.figure(figsize=(8, 5))\n",
        "plt.hist(counts, bins=50, color='skyblue', edgecolor='black')\n",
        "plt.title('Histogram of Token Occurrences')\n",
        "plt.xlabel('Number of Occurrences per Token')\n",
        "plt.ylabel('Number of Tokens')\n",
        "plt.yscale('log')  # optional: makes long tails easier to see\n",
        "plt.show()"
      ]
    },
    {
      "cell_type": "markdown",
      "source": [
        "The histogram shows that most tokens occur only a few times, while a small number appear very frequently. This creates a long-tailed distribution typical of natural language, where common words dominate but many rare words appear infrequently. Such variation reflects the diverse vocabulary used across the emails."
      ],
      "metadata": {
        "id": "ELYwuWjdm0AY"
      }
    },
    {
      "cell_type": "markdown",
      "metadata": {
        "id": "czA1-MVBkJZc"
      },
      "source": [
        "### Q2.\n",
        "\n",
        "Load `Phishing_clean.parquet`. This is the text from the e-mails broken into the most common 2,711 tokens and one-hot-encoded as features/covariates. So each row is an e-mail, the `Email Type` takes the value 1 if it's a scam and 0 otherwise, and every other column is a word or symbol that occurs in at least 15 e-mails.\n",
        "\n",
        "1. Perform an 80/20 train-test split of the data.\n",
        "2. Run a regression of $y$ on the one-hot-encoded emails. What is the $R^2$ on the test set? On the training set?\n",
        "3. What words have the largest coefficients in absolute value and most strongly influence predictions?"
      ]
    },
    {
      "cell_type": "code",
      "execution_count": 9,
      "metadata": {
        "id": "DJgOChPIkJZc",
        "outputId": "c960508e-f0f9-46e7-e55b-f5843e7832fb",
        "colab": {
          "base_uri": "https://localhost:8080/"
        }
      },
      "outputs": [
        {
          "output_type": "stream",
          "name": "stdout",
          "text": [
            "R² on training set: 0.767\n",
            "R² on test set: 0.666\n",
            "\n",
            "Top 10 words by absolute coefficient:\n",
            "intervention         1.259257\n",
            "localized            0.824350\n",
            "thermal              0.747006\n",
            "crawler              0.696167\n",
            "background-image:    0.622909\n",
            "helvetica,           0.598560\n",
            "aging                0.594956\n",
            "form.                0.576886\n",
            "gray;                0.574480\n",
            "a:active             0.574480\n",
            "dtype: float64\n"
          ]
        }
      ],
      "source": [
        "import pandas as pd\n",
        "from sklearn.model_selection import train_test_split\n",
        "from sklearn.linear_model import LinearRegression\n",
        "import numpy as np\n",
        "\n",
        "# 1. Load data\n",
        "df = pd.read_parquet('/content/Phishing_clean.parquet')\n",
        "\n",
        "# 2. Split data\n",
        "X = df.drop(columns=['Email Type'])\n",
        "y = df['Email Type']\n",
        "\n",
        "X_train, X_test, y_train, y_test = train_test_split(X, y, test_size=0.2, random_state=42)\n",
        "\n",
        "# 3. Fit linear regression\n",
        "model = LinearRegression()\n",
        "model.fit(X_train, y_train)\n",
        "\n",
        "# 4. Compute R²\n",
        "r2_train = model.score(X_train, y_train)\n",
        "r2_test = model.score(X_test, y_test)\n",
        "\n",
        "print(\"R² on training set:\", round(r2_train, 3))\n",
        "print(\"R² on test set:\", round(r2_test, 3))\n",
        "\n",
        "# 5. Identify words with largest coefficients\n",
        "coefs = pd.Series(model.coef_, index=X.columns)\n",
        "top_words = coefs.abs().sort_values(ascending=False).head(10)\n",
        "print(\"\\nTop 10 words by absolute coefficient:\")\n",
        "print(top_words)"
      ]
    },
    {
      "cell_type": "markdown",
      "source": [
        "After an 80/20 train-test split, the regression model produced an R-squared of 0.77 on the training set and 0.67 on the test set. Words like “intervention,” “localized,” and “thermal” had the largest coefficients, meaning they most strongly influenced whether an email was classified as a scam. Overall, the model does a good job finding patterns in the words used across different emails."
      ],
      "metadata": {
        "id": "LNdMI71oonSJ"
      }
    },
    {
      "cell_type": "markdown",
      "metadata": {
        "id": "4Zgd0z2YkJZd"
      },
      "source": [
        "### Q3.\n",
        "\n",
        "Take the matrix of one-hot-encoded tokens (the data, less the outcome variable, `Email Type`) and perform a principal components analysis decomposition with two components. Plot the first two principal components in a scatter plot, and hue the points by whether they are a phishing scam or not. Do you notice any patterns?"
      ]
    },
    {
      "cell_type": "code",
      "execution_count": null,
      "metadata": {
        "id": "OG7Bud54kJZd"
      },
      "outputs": [],
      "source": []
    },
    {
      "cell_type": "markdown",
      "metadata": {
        "id": "bXrexhw4kJZd"
      },
      "source": [
        "### Q4.\n",
        "\n",
        "Run a linear regression of $y$ on the first 2,610 principal components of $X$. What is the $R^2$ on the training and test sets? (I used cross validation to determine that 2,610 was approximately optimal, but not all 2,711 components.)\n",
        "\n",
        "How does this performance compare to the linear regression?"
      ]
    },
    {
      "cell_type": "code",
      "execution_count": null,
      "metadata": {
        "id": "TPLaUKwjkJZd"
      },
      "outputs": [],
      "source": []
    },
    {
      "cell_type": "markdown",
      "metadata": {
        "id": "GPPqy-OokJZd"
      },
      "source": [
        "### Q5.\n",
        "\n",
        "Explain briefly in your own words what the advantage is in using the principal components to run this high-dimensional regression, rather than the original data."
      ]
    },
    {
      "cell_type": "code",
      "execution_count": null,
      "metadata": {
        "id": "KRGL2hxykJZd"
      },
      "outputs": [],
      "source": []
    }
  ],
  "metadata": {
    "kernelspec": {
      "display_name": "Python 3 (ipykernel)",
      "language": "python",
      "name": "python3"
    },
    "language_info": {
      "codemirror_mode": {
        "name": "ipython",
        "version": 3
      },
      "file_extension": ".py",
      "mimetype": "text/x-python",
      "name": "python",
      "nbconvert_exporter": "python",
      "pygments_lexer": "ipython3",
      "version": "3.10.18"
    },
    "colab": {
      "provenance": []
    }
  },
  "nbformat": 4,
  "nbformat_minor": 0
}